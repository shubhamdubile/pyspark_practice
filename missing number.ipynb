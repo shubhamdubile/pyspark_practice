{
 "cells": [
  {
   "cell_type": "code",
   "execution_count": 1,
   "id": "871735c4",
   "metadata": {},
   "outputs": [],
   "source": [
    "import findspark\n",
    "findspark.init()"
   ]
  },
  {
   "cell_type": "code",
   "execution_count": null,
   "id": "794005e6",
   "metadata": {},
   "outputs": [],
   "source": [
    "Task - Find the missing numbers in the column\n",
    "\n",
    "data = [\n",
    " (1, ),\n",
    " (2,),\n",
    " (3,),\n",
    " (6,),\n",
    " (7,),\n",
    " (8,)]\n",
    "df = spark.createDataFrame(data).toDF(\"id\")"
   ]
  },
  {
   "cell_type": "code",
   "execution_count": 2,
   "id": "ffa97833",
   "metadata": {},
   "outputs": [],
   "source": [
    "import pyspark\n",
    "from pyspark.sql import SparkSession"
   ]
  },
  {
   "cell_type": "code",
   "execution_count": 3,
   "id": "2332c16d",
   "metadata": {},
   "outputs": [],
   "source": [
    "spark = SparkSession.builder.getOrCreate()"
   ]
  },
  {
   "cell_type": "code",
   "execution_count": 4,
   "id": "cc4f0588",
   "metadata": {},
   "outputs": [
    {
     "name": "stdout",
     "output_type": "stream",
     "text": [
      "+------+\n",
      "|helllo|\n",
      "+------+\n",
      "| saprk|\n",
      "+------+\n",
      "\n"
     ]
    }
   ],
   "source": [
    "df = spark.sql(\"select 'saprk' as helllo\")\n",
    "df.show()"
   ]
  },
  {
   "cell_type": "code",
   "execution_count": 5,
   "id": "93294e55",
   "metadata": {},
   "outputs": [],
   "source": [
    "data = [\n",
    " (1, ),\n",
    " (2,),\n",
    " (3,),\n",
    " (6,),\n",
    " (7,),\n",
    " (8,)]"
   ]
  },
  {
   "cell_type": "code",
   "execution_count": 6,
   "id": "9bc1682b",
   "metadata": {},
   "outputs": [
    {
     "data": {
      "text/plain": [
       "[(1,), (2,), (3,), (6,), (7,), (8,)]"
      ]
     },
     "metadata": {},
     "output_type": "display_data"
    }
   ],
   "source": [
    "display(data)"
   ]
  },
  {
   "cell_type": "code",
   "execution_count": 9,
   "id": "72a0cfe7",
   "metadata": {},
   "outputs": [],
   "source": [
    "df = spark.createDataFrame(data).toDF('id')"
   ]
  },
  {
   "cell_type": "code",
   "execution_count": 10,
   "id": "0e72a5fb",
   "metadata": {},
   "outputs": [
    {
     "name": "stdout",
     "output_type": "stream",
     "text": [
      "+---+\n",
      "| id|\n",
      "+---+\n",
      "|  1|\n",
      "|  2|\n",
      "|  3|\n",
      "|  6|\n",
      "|  7|\n",
      "|  8|\n",
      "+---+\n",
      "\n"
     ]
    }
   ],
   "source": [
    "df.show()"
   ]
  },
  {
   "cell_type": "code",
   "execution_count": 11,
   "id": "b4096d98",
   "metadata": {},
   "outputs": [],
   "source": [
    "from pyspark.sql.types import *\n",
    "from pyspark.sql.functions import *"
   ]
  },
  {
   "cell_type": "code",
   "execution_count": 12,
   "id": "df6baee6",
   "metadata": {},
   "outputs": [],
   "source": [
    "min_no = df.select(min(\"id\")).first()[0]\n",
    "max_no = df.select(max(\"id\")).first()[0]"
   ]
  },
  {
   "cell_type": "code",
   "execution_count": 13,
   "id": "942ec3c9",
   "metadata": {},
   "outputs": [],
   "source": [
    "all_data = spark.range(min_no,max_no+1)"
   ]
  },
  {
   "cell_type": "code",
   "execution_count": 16,
   "id": "ab03836a",
   "metadata": {},
   "outputs": [],
   "source": [
    "df2 = all_data.subtract(df).select(col('id').alias('missing_ids')).sort('missing_ids')"
   ]
  },
  {
   "cell_type": "code",
   "execution_count": 17,
   "id": "f903d241",
   "metadata": {},
   "outputs": [
    {
     "name": "stdout",
     "output_type": "stream",
     "text": [
      "+-----------+\n",
      "|missing_ids|\n",
      "+-----------+\n",
      "|          4|\n",
      "|          5|\n",
      "+-----------+\n",
      "\n"
     ]
    }
   ],
   "source": [
    "df2.show()"
   ]
  },
  {
   "cell_type": "code",
   "execution_count": null,
   "id": "67aa1571",
   "metadata": {},
   "outputs": [],
   "source": []
  }
 ],
 "metadata": {
  "kernelspec": {
   "display_name": "Python 3 (ipykernel)",
   "language": "python",
   "name": "python3"
  },
  "language_info": {
   "codemirror_mode": {
    "name": "ipython",
    "version": 3
   },
   "file_extension": ".py",
   "mimetype": "text/x-python",
   "name": "python",
   "nbconvert_exporter": "python",
   "pygments_lexer": "ipython3",
   "version": "3.11.5"
  }
 },
 "nbformat": 4,
 "nbformat_minor": 5
}
